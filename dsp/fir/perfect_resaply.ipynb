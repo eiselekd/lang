{
 "cells": [
  {
   "cell_type": "code",
   "execution_count": null,
   "id": "dfc3ccd0",
   "metadata": {},
   "outputs": [
    {
     "data": {
      "application/vnd.jupyter.widget-view+json": {
       "model_id": "cc793348c182444994421aeedc1358e2",
       "version_major": 2,
       "version_minor": 0
      },
      "text/plain": [
       "interactive(children=(FloatSlider(value=0.8, description='height', max=1.0, min=-1.0, step=0.01), IntSlider(va…"
      ]
     },
     "metadata": {},
     "output_type": "display_data"
    }
   ],
   "source": [
    "from window import windowCreate, windowApply, windowPlot  \n",
    "from resample_data import fir_interpolator_1, fir_interpolator_2\n",
    "import ipywidgets as widgets\n",
    "import numpy as np\n",
    "import matplotlib.pyplot as plt\n",
    "import ipywidgets as widgets\n",
    "import sklearn.preprocessing\n",
    "\n",
    "frameSize = 20000\n",
    "impulse = np.zeros(frameSize)\n",
    "impulse[0] = 1;\n",
    "#[64 * 12]\n",
    "\n",
    "\n",
    "@widgets.interact(height=widgets.FloatSlider(min=-1.0,   max=1.0, step=0.01, value=0.8), \n",
    "                  width =widgets.IntSlider  (min=-1.0,   max=30, step=2, value=5),\n",
    "                  plateau =widgets.IntSlider  (min=-0.0, max=30, step=2, value=3))\n",
    "def execute(height=0.8, width=5, plateau=3):\n",
    "\n",
    "\n",
    "    w = np.asarray(fir_interpolator_2, dtype=np.float32)\n",
    "    w = w[0::24]\n",
    "    \n",
    "    impulseResponse = windowApply(impulse, w)\n",
    "    \n",
    "    windowPlot(impulse, impulseResponse, w)\n"
   ]
  }
 ],
 "metadata": {
  "kernelspec": {
   "display_name": ".venv",
   "language": "python",
   "name": "python3"
  },
  "language_info": {
   "codemirror_mode": {
    "name": "ipython",
    "version": 3
   },
   "file_extension": ".py",
   "mimetype": "text/x-python",
   "name": "python",
   "nbconvert_exporter": "python",
   "pygments_lexer": "ipython3",
   "version": "3.10.16"
  }
 },
 "nbformat": 4,
 "nbformat_minor": 5
}
