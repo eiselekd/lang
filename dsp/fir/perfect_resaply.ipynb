{
 "cells": [
  {
   "cell_type": "code",
   "execution_count": 3,
   "id": "dfc3ccd0",
   "metadata": {},
   "outputs": [
    {
     "data": {
      "application/vnd.jupyter.widget-view+json": {
       "model_id": "c612a9dbd60e41d69854a009549a63f6",
       "version_major": 2,
       "version_minor": 0
      },
      "text/plain": [
       "interactive(children=(IntSlider(value=440, description='freq', max=40000, min=10, step=10), Output()), _dom_cl…"
      ]
     },
     "metadata": {},
     "output_type": "display_data"
    }
   ],
   "source": [
    "from window import windowCreate, windowApply, windowPlot  \n",
    "from resample_data import fir_interpolator_1, fir_interpolator_2\n",
    "import ipywidgets as widgets\n",
    "import numpy as np\n",
    "import matplotlib.pyplot as plt\n",
    "import ipywidgets as widgets\n",
    "import sklearn.preprocessing\n",
    "\n",
    "frameSize = 48000\n",
    "impulse = np.zeros(frameSize)\n",
    "impulse[0] = 1;\n",
    "\n",
    "#[64 * 12]\n",
    "\n",
    "\n",
    "@widgets.interact(freq =widgets.IntSlider  (min=10,   max=40000, step=10, value=440))\n",
    "def execute(freq=440):\n",
    "\n",
    "    sin440 = np.array(np.arange(0, 1, 1/frameSize))\n",
    "    sin440 = np.sin(freq * np.pi * 2 * sin440);\n",
    "\n",
    "    # fir_interpolator_1: 64 * 12 \n",
    "    # fir_interpolator_2: 64 * 24 \n",
    "    w = np.asarray(fir_interpolator_1, dtype=np.float32)\n",
    "    w = w[0::12]\n",
    "    \n",
    "    impulseResponse = windowApply(sin440, w) # impulse sin440\n",
    "    \n",
    "    windowPlot(sin440, impulseResponse, w) #impulse\n"
   ]
  }
 ],
 "metadata": {
  "kernelspec": {
   "display_name": ".venv",
   "language": "python",
   "name": "python3"
  },
  "language_info": {
   "codemirror_mode": {
    "name": "ipython",
    "version": 3
   },
   "file_extension": ".py",
   "mimetype": "text/x-python",
   "name": "python",
   "nbconvert_exporter": "python",
   "pygments_lexer": "ipython3",
   "version": "3.10.16"
  }
 },
 "nbformat": 4,
 "nbformat_minor": 5
}
