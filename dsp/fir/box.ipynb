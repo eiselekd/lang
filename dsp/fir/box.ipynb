{
 "cells": [
  {
   "cell_type": "code",
   "execution_count": 1,
   "id": "3f5a1b12",
   "metadata": {},
   "outputs": [
    {
     "data": {
      "application/vnd.jupyter.widget-view+json": {
       "model_id": "0e2fa6fb510849888ff0f23a26885f64",
       "version_major": 2,
       "version_minor": 0
      },
      "text/plain": [
       "interactive(children=(FloatSlider(value=0.8, description='height', max=1.0, min=-1.0, step=0.01), IntSlider(va…"
      ]
     },
     "metadata": {},
     "output_type": "display_data"
    }
   ],
   "source": [
    "from window import windowCreate, windowApply, windowPlot  \n",
    "import ipywidgets as widgets\n",
    "import numpy as np\n",
    "import matplotlib.pyplot as plt\n",
    "import ipywidgets as widgets\n",
    "\n",
    "frameSize = 200\n",
    "impulse = np.zeros(frameSize)\n",
    "impulse[0] = 1;\n",
    "\n",
    "@widgets.interact(height=widgets.FloatSlider(min=-1.0, max=1.0, step=0.01, value=0.8), \n",
    "                  width =widgets.IntSlider  (min=-1.0, max=30, step=1, value=5))\n",
    "def execute(height=0.8, width=5):\n",
    "\n",
    "    w = windowCreate(width);\n",
    "    for i in range(0, w.size):\n",
    "        w[i] = height;\n",
    "    \n",
    "    impulseResponse = windowApply(impulse, w)\n",
    "    \n",
    "    windowPlot(impulse, impulseResponse, w)\n",
    "\n",
    "    \n"
   ]
  }
 ],
 "metadata": {
  "kernelspec": {
   "display_name": ".venv",
   "language": "python",
   "name": "python3"
  },
  "language_info": {
   "codemirror_mode": {
    "name": "ipython",
    "version": 3
   },
   "file_extension": ".py",
   "mimetype": "text/x-python",
   "name": "python",
   "nbconvert_exporter": "python",
   "pygments_lexer": "ipython3",
   "version": "3.10.16"
  }
 },
 "nbformat": 4,
 "nbformat_minor": 5
}
